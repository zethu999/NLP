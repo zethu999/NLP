{
 "cells": [
  {
   "cell_type": "code",
   "execution_count": 6,
   "id": "808a57d2",
   "metadata": {},
   "outputs": [
    {
     "name": "stdout",
     "output_type": "stream",
     "text": [
      "showing info https://raw.githubusercontent.com/nltk/nltk_data/gh-pages/index.xml\n"
     ]
    },
    {
     "data": {
      "text/plain": [
       "True"
      ]
     },
     "execution_count": 6,
     "metadata": {},
     "output_type": "execute_result"
    }
   ],
   "source": [
    "import nltk\n",
    "import re\n",
    "from nltk.corpus import stopwords\n",
    "from nltk.stem import WordNetLemmatizer, PorterStemmer\n",
    "nltk.download()"
   ]
  },
  {
   "cell_type": "markdown",
   "id": "9dc4ff92",
   "metadata": {},
   "source": [
    "# Text cleaning\n",
    "\n",
    "- It involves many methods but the basic are\n",
    "\n",
    " 1. Removing stopword\n",
    " 2. Removing special characters\n",
    " 3. Removing numbers and extra spaces\n",
    " 4. Lowering the text"
   ]
  },
  {
   "cell_type": "code",
   "execution_count": 2,
   "id": "9dc16fb8",
   "metadata": {},
   "outputs": [],
   "source": [
    "para = \"\"\"I have three visions for India. In 3000 years of our history, people from all over \n",
    "               the world have come and invaded us, captured our lands, conquered our minds. \n",
    "               From Alexander onwards, the Greeks, the Turks, the Moguls, the Portuguese, the British,\n",
    "               the French, the Dutch, all of them came and looted us, took over what was ours. \n",
    "               Yet we have not done this to any other nation. We have not conquered anyone. \n",
    "               We have not grabbed their land, their culture, \n",
    "               their history and tried to enforce our way of life on them. \n",
    "               Why? Because we respect the freedom of others.That is why my \n",
    "               first vision is that of freedom. I believe that India got its first vision of \n",
    "               this in 1857, when we started the War of Independence. It is this freedom that\n",
    "               we must protect and nurture and build on. If we are not free, no one will respect us.\n",
    "               My second vision for India’s development. For fifty years we have been a developing nation.\n",
    "               It is time we see ourselves as a developed nation. We are among the top 5 nations of the world\n",
    "               in terms of GDP. We have a 10 percent growth rate in most areas. Our poverty levels are falling.\n",
    "               Our achievements are being globally recognised today. Yet we lack the self-confidence to\n",
    "               see ourselves as a developed nation, self-reliant and self-assured. Isn’t this incorrect?\n",
    "               I have a third vision. India must stand up to the world. Because I believe that unless India \n",
    "               stands up to the world, no one will respect us. Only strength respects strength. We must be \n",
    "               strong not only as a military power but also as an economic power. Both must go hand-in-hand. \n",
    "               My good fortune was to have worked with three great minds. Dr. Vikram Sarabhai of the Dept. of \n",
    "               space, Professor Satish Dhawan, who succeeded him and Dr. Brahm Prakash, father of nuclear material.\n",
    "               I was lucky to have worked with all three of them closely and consider this the great opportunity of my life. \n",
    "               I see four milestones in my career\"\"\""
   ]
  },
  {
   "cell_type": "code",
   "execution_count": 3,
   "id": "169bdf17",
   "metadata": {},
   "outputs": [
    {
     "data": {
      "text/plain": [
       "31"
      ]
     },
     "execution_count": 3,
     "metadata": {},
     "output_type": "execute_result"
    }
   ],
   "source": [
    "sentences = nltk.sent_tokenize(para)\n",
    "len(sentences)"
   ]
  },
  {
   "cell_type": "code",
   "execution_count": 13,
   "id": "d84f2fe0",
   "metadata": {},
   "outputs": [],
   "source": [
    "# Remove stopwords \n",
    "stoplist = stopwords.words('english')\n",
    "new_sent = []\n",
    "for i in range(len(sentences)) :\n",
    "    \n",
    "    words = nltk.word_tokenize(sentences[i])\n",
    "    words = [word for word in words if word not in stoplist]\n",
    "    new = ' '.join(words)\n",
    "    new_sent.append(new)"
   ]
  },
  {
   "cell_type": "code",
   "execution_count": 14,
   "id": "595aa99c",
   "metadata": {},
   "outputs": [
    {
     "data": {
      "text/plain": [
       "179"
      ]
     },
     "execution_count": 14,
     "metadata": {},
     "output_type": "execute_result"
    }
   ],
   "source": [
    "len(stoplist)"
   ]
  },
  {
   "cell_type": "code",
   "execution_count": 15,
   "id": "0f7caac3",
   "metadata": {},
   "outputs": [
    {
     "data": {
      "text/plain": [
       "['I three visions India .',\n",
       " 'In 3000 years history , people world come invaded us , captured lands , conquered minds .',\n",
       " 'From Alexander onwards , Greeks , Turks , Moguls , Portuguese , British , French , Dutch , came looted us , took .',\n",
       " 'Yet done nation .',\n",
       " 'We conquered anyone .',\n",
       " 'We grabbed land , culture , history tried enforce way life .',\n",
       " 'Why ?',\n",
       " 'Because respect freedom others.That first vision freedom .',\n",
       " 'I believe India got first vision 1857 , started War Independence .',\n",
       " 'It freedom must protect nurture build .',\n",
       " 'If free , one respect us .',\n",
       " 'My second vision India ’ development .',\n",
       " 'For fifty years developing nation .',\n",
       " 'It time see developed nation .',\n",
       " 'We among top 5 nations world terms GDP .',\n",
       " 'We 10 percent growth rate areas .',\n",
       " 'Our poverty levels falling .',\n",
       " 'Our achievements globally recognised today .',\n",
       " 'Yet lack self-confidence see developed nation , self-reliant self-assured .',\n",
       " 'Isn ’ incorrect ?',\n",
       " 'I third vision .',\n",
       " 'India must stand world .',\n",
       " 'Because I believe unless India stands world , one respect us .',\n",
       " 'Only strength respects strength .',\n",
       " 'We must strong military power also economic power .',\n",
       " 'Both must go hand-in-hand .',\n",
       " 'My good fortune worked three great minds .',\n",
       " 'Dr. Vikram Sarabhai Dept .',\n",
       " 'space , Professor Satish Dhawan , succeeded Dr. Brahm Prakash , father nuclear material .',\n",
       " 'I lucky worked three closely consider great opportunity life .',\n",
       " 'I see four milestones career']"
      ]
     },
     "execution_count": 15,
     "metadata": {},
     "output_type": "execute_result"
    }
   ],
   "source": [
    "new_sent"
   ]
  },
  {
   "cell_type": "code",
   "execution_count": 23,
   "id": "30211adf",
   "metadata": {},
   "outputs": [],
   "source": [
    "# Removig special charactes numbers and extra spaces and lemmatize\n",
    "new_sent_rscn = [] \n",
    "\n",
    "lemm = WordNetLemmatizer()\n",
    "\n",
    "for i in range(len(new_sent)):\n",
    "    sente = re.sub('[^a-zA-Z]',' ',new_sent[i])\n",
    "    sente = sente.lower()\n",
    "    sente = sente.split()\n",
    "    sente = [lemm.lemmatize(word) for word in sente]\n",
    "    new_rs = ' '.join(sente)\n",
    "    new_sent_rscn.append(new_rs)       "
   ]
  },
  {
   "cell_type": "code",
   "execution_count": 24,
   "id": "b0e368e2",
   "metadata": {},
   "outputs": [
    {
     "data": {
      "text/plain": [
       "['i three vision india',\n",
       " 'in year history people world come invaded u captured land conquered mind',\n",
       " 'from alexander onwards greek turk mogul portuguese british french dutch came looted u took',\n",
       " 'yet done nation',\n",
       " 'we conquered anyone',\n",
       " 'we grabbed land culture history tried enforce way life',\n",
       " 'why',\n",
       " 'because respect freedom others that first vision freedom',\n",
       " 'i believe india got first vision started war independence',\n",
       " 'it freedom must protect nurture build',\n",
       " 'if free one respect u',\n",
       " 'my second vision india development',\n",
       " 'for fifty year developing nation',\n",
       " 'it time see developed nation',\n",
       " 'we among top nation world term gdp',\n",
       " 'we percent growth rate area',\n",
       " 'our poverty level falling',\n",
       " 'our achievement globally recognised today',\n",
       " 'yet lack self confidence see developed nation self reliant self assured',\n",
       " 'isn incorrect',\n",
       " 'i third vision',\n",
       " 'india must stand world',\n",
       " 'because i believe unless india stand world one respect u',\n",
       " 'only strength respect strength',\n",
       " 'we must strong military power also economic power',\n",
       " 'both must go hand in hand',\n",
       " 'my good fortune worked three great mind',\n",
       " 'dr vikram sarabhai dept',\n",
       " 'space professor satish dhawan succeeded dr brahm prakash father nuclear material',\n",
       " 'i lucky worked three closely consider great opportunity life',\n",
       " 'i see four milestone career']"
      ]
     },
     "execution_count": 24,
     "metadata": {},
     "output_type": "execute_result"
    }
   ],
   "source": [
    "new_sent_rscn"
   ]
  },
  {
   "cell_type": "code",
   "execution_count": null,
   "id": "0b13c163",
   "metadata": {},
   "outputs": [],
   "source": []
  }
 ],
 "metadata": {
  "kernelspec": {
   "display_name": "Python 3 (ipykernel)",
   "language": "python",
   "name": "python3"
  },
  "language_info": {
   "codemirror_mode": {
    "name": "ipython",
    "version": 3
   },
   "file_extension": ".py",
   "mimetype": "text/x-python",
   "name": "python",
   "nbconvert_exporter": "python",
   "pygments_lexer": "ipython3",
   "version": "3.9.13"
  }
 },
 "nbformat": 4,
 "nbformat_minor": 5
}
